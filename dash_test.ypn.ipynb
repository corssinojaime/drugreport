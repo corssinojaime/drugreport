{
 "cells": [
  {
   "cell_type": "code",
   "execution_count": 9,
   "metadata": {},
   "outputs": [],
   "source": [
    "#!pip install mysql-connector-python\n",
    "#!pip install dash\n",
    "#!pip install jupyter_dash\n",
    "#!pip install dash_bootstrap_components\n",
    "#!pip install pandas_datareader"
   ]
  },
  {
   "cell_type": "code",
   "execution_count": 10,
   "metadata": {},
   "outputs": [],
   "source": [
    "import pandas as pd\n",
    "import dash\n",
    "from dash import Dash\n",
    "import plotly.express as px\n",
    "import plotly.graph_objects as go\n",
    "from jupyter_dash import JupyterDash\n",
    "#import dash_core_components as dcc\n",
    "from dash import html\n",
    "from dash import dcc\n",
    "from dash.dependencies import Input, Output\n",
    "import dash_bootstrap_components as dbc\n",
    "\n",
    "## Library to connect to MySQL database\n",
    "import mysql.connector"
   ]
  },
  {
   "cell_type": "code",
   "execution_count": 11,
   "metadata": {},
   "outputs": [
    {
     "name": "stdout",
     "output_type": "stream",
     "text": [
      "<mysql.connector.connection_cext.CMySQLConnection object at 0x000001CFC00854C0>\n"
     ]
    }
   ],
   "source": [
    "mydb = mysql.connector.connect(\n",
    "    host = \"localhost\",\n",
    "    user = \"root\",\n",
    "    password = \"root1234\",\n",
    "    database = \"hr\"\n",
    ")\n",
    "\n",
    "## Print the connection object\n",
    "print(mydb)"
   ]
  },
  {
   "cell_type": "code",
   "execution_count": 12,
   "metadata": {},
   "outputs": [
    {
     "data": {
      "text/html": [
       "<div>\n",
       "<style scoped>\n",
       "    .dataframe tbody tr th:only-of-type {\n",
       "        vertical-align: middle;\n",
       "    }\n",
       "\n",
       "    .dataframe tbody tr th {\n",
       "        vertical-align: top;\n",
       "    }\n",
       "\n",
       "    .dataframe thead th {\n",
       "        text-align: right;\n",
       "    }\n",
       "</style>\n",
       "<table border=\"1\" class=\"dataframe\">\n",
       "  <thead>\n",
       "    <tr style=\"text-align: right;\">\n",
       "      <th></th>\n",
       "      <th>COUNTRY_ID</th>\n",
       "      <th>COUNTRY_NAME</th>\n",
       "      <th>REGION_ID</th>\n",
       "    </tr>\n",
       "  </thead>\n",
       "  <tbody>\n",
       "    <tr>\n",
       "      <th>0</th>\n",
       "      <td>AR</td>\n",
       "      <td>Argentina</td>\n",
       "      <td>2</td>\n",
       "    </tr>\n",
       "    <tr>\n",
       "      <th>1</th>\n",
       "      <td>AU</td>\n",
       "      <td>Australia</td>\n",
       "      <td>3</td>\n",
       "    </tr>\n",
       "    <tr>\n",
       "      <th>2</th>\n",
       "      <td>BE</td>\n",
       "      <td>Belgium</td>\n",
       "      <td>1</td>\n",
       "    </tr>\n",
       "    <tr>\n",
       "      <th>3</th>\n",
       "      <td>BR</td>\n",
       "      <td>Brazil</td>\n",
       "      <td>2</td>\n",
       "    </tr>\n",
       "    <tr>\n",
       "      <th>4</th>\n",
       "      <td>CA</td>\n",
       "      <td>Canada</td>\n",
       "      <td>2</td>\n",
       "    </tr>\n",
       "  </tbody>\n",
       "</table>\n",
       "</div>"
      ],
      "text/plain": [
       "  COUNTRY_ID COUNTRY_NAME  REGION_ID\n",
       "0         AR    Argentina          2\n",
       "1         AU    Australia          3\n",
       "2         BE      Belgium          1\n",
       "3         BR       Brazil          2\n",
       "4         CA       Canada          2"
      ]
     },
     "execution_count": 12,
     "metadata": {},
     "output_type": "execute_result"
    }
   ],
   "source": [
    "## Create a cursor to read data\n",
    "cursor = mydb.cursor()\n",
    "## Execute the SELECT statement\n",
    "cursor.execute(\"SELECT * FROM country\")\n",
    "sales_df = pd.DataFrame(cursor.fetchall())\n",
    "sales_df.columns = cursor.column_names\n",
    "sales_df.head()"
   ]
  },
  {
   "cell_type": "code",
   "execution_count": 13,
   "metadata": {},
   "outputs": [],
   "source": [
    "app = JupyterDash(__name__, external_stylesheets=[dbc.themes.SOLAR])"
   ]
  },
  {
   "cell_type": "code",
   "execution_count": 14,
   "metadata": {},
   "outputs": [],
   "source": [
    "## Define the title for the app\n",
    "mytitle = dcc.Markdown(children='# App that analyzes Sales')\n",
    "\n",
    "## Define the graph\n",
    "mygraph= dcc.Graph(figure={})\n",
    "\n",
    "## Define components to use in the app\n",
    "dropdown = dcc.Dropdown(options=sales_df.columns,\n",
    "                        value='REVENUE',\n",
    "                        clearable=False)\n",
    "\n",
    "## Customize your layout\n",
    "app.layout = dbc.Container([mytitle,dropdown,mygraph])"
   ]
  },
  {
   "cell_type": "code",
   "execution_count": 15,
   "metadata": {},
   "outputs": [],
   "source": [
    "@app.callback(\n",
    "    Output(mygraph, component_property='figure'),\n",
    "    Input(dropdown, component_property='value'),\n",
    ")\n",
    "def update_graph(user_input):  # Function arguments come from the component property of the input\n",
    "    for col in sales_df.columns:\n",
    "        if user_input == col:\n",
    "                fig=px.scatter(data_frame=sales_df, x=\"TOTAL_ORDERS\", y= col)\n",
    "\n",
    "    return fig"
   ]
  },
  {
   "cell_type": "code",
   "execution_count": null,
   "metadata": {},
   "outputs": [],
   "source": [
    "app.run_server(mode='inline', port=8000)"
   ]
  },
  {
   "cell_type": "code",
   "execution_count": 2,
   "metadata": {},
   "outputs": [],
   "source": [
    "import pandas as pd\n"
   ]
  },
  {
   "cell_type": "code",
   "execution_count": 13,
   "metadata": {},
   "outputs": [],
   "source": [
    "vd = pd.read_csv(\"./vaccination-data.csv\")"
   ]
  },
  {
   "cell_type": "code",
   "execution_count": 14,
   "metadata": {},
   "outputs": [
    {
     "data": {
      "text/plain": [
       "(229, 16)"
      ]
     },
     "execution_count": 14,
     "metadata": {},
     "output_type": "execute_result"
    }
   ],
   "source": [
    "vd.shape"
   ]
  },
  {
   "cell_type": "code",
   "execution_count": 16,
   "metadata": {},
   "outputs": [
    {
     "data": {
      "text/html": [
       "<div>\n",
       "<style scoped>\n",
       "    .dataframe tbody tr th:only-of-type {\n",
       "        vertical-align: middle;\n",
       "    }\n",
       "\n",
       "    .dataframe tbody tr th {\n",
       "        vertical-align: top;\n",
       "    }\n",
       "\n",
       "    .dataframe thead th {\n",
       "        text-align: right;\n",
       "    }\n",
       "</style>\n",
       "<table border=\"1\" class=\"dataframe\">\n",
       "  <thead>\n",
       "    <tr style=\"text-align: right;\">\n",
       "      <th></th>\n",
       "      <th>COUNTRY</th>\n",
       "      <th>ISO3</th>\n",
       "      <th>WHO_REGION</th>\n",
       "      <th>DATA_SOURCE</th>\n",
       "      <th>DATE_UPDATED</th>\n",
       "      <th>TOTAL_VACCINATIONS</th>\n",
       "      <th>PERSONS_VACCINATED_1PLUS_DOSE</th>\n",
       "      <th>TOTAL_VACCINATIONS_PER100</th>\n",
       "      <th>PERSONS_VACCINATED_1PLUS_DOSE_PER100</th>\n",
       "      <th>PERSONS_FULLY_VACCINATED</th>\n",
       "      <th>PERSONS_FULLY_VACCINATED_PER100</th>\n",
       "      <th>VACCINES_USED</th>\n",
       "      <th>FIRST_VACCINE_DATE</th>\n",
       "      <th>NUMBER_VACCINES_TYPES_USED</th>\n",
       "      <th>PERSONS_BOOSTER_ADD_DOSE</th>\n",
       "      <th>PERSONS_BOOSTER_ADD_DOSE_PER100</th>\n",
       "    </tr>\n",
       "  </thead>\n",
       "  <tbody>\n",
       "    <tr>\n",
       "      <th>0</th>\n",
       "      <td>Afghanistan</td>\n",
       "      <td>AFG</td>\n",
       "      <td>EMRO</td>\n",
       "      <td>REPORTING</td>\n",
       "      <td>2023-03-12</td>\n",
       "      <td>16248588.0</td>\n",
       "      <td>14258889</td>\n",
       "      <td>41.740</td>\n",
       "      <td>36.629</td>\n",
       "      <td>13542327</td>\n",
       "      <td>34.788</td>\n",
       "      <td>AstraZeneca - Vaxzevria,Beijing CNBG - BBIBP-C...</td>\n",
       "      <td>2021-02-22</td>\n",
       "      <td>11.0</td>\n",
       "      <td>973787.0</td>\n",
       "      <td>2.501</td>\n",
       "    </tr>\n",
       "    <tr>\n",
       "      <th>1</th>\n",
       "      <td>Albania</td>\n",
       "      <td>ALB</td>\n",
       "      <td>EURO</td>\n",
       "      <td>REPORTING</td>\n",
       "      <td>2023-02-05</td>\n",
       "      <td>3058102.0</td>\n",
       "      <td>1345763</td>\n",
       "      <td>106.300</td>\n",
       "      <td>47.287</td>\n",
       "      <td>1274719</td>\n",
       "      <td>44.791</td>\n",
       "      <td>AstraZeneca - Vaxzevria,Gamaleya - Gam-Covid-V...</td>\n",
       "      <td>2021-01-13</td>\n",
       "      <td>5.0</td>\n",
       "      <td>390033.0</td>\n",
       "      <td>13.705</td>\n",
       "    </tr>\n",
       "    <tr>\n",
       "      <th>2</th>\n",
       "      <td>Algeria</td>\n",
       "      <td>DZA</td>\n",
       "      <td>AFRO</td>\n",
       "      <td>REPORTING</td>\n",
       "      <td>2022-09-04</td>\n",
       "      <td>15267442.0</td>\n",
       "      <td>7840131</td>\n",
       "      <td>34.817</td>\n",
       "      <td>17.879</td>\n",
       "      <td>6481186</td>\n",
       "      <td>14.780</td>\n",
       "      <td>Beijing CNBG - BBIBP-CorV,Gamaleya - Gam-Covid...</td>\n",
       "      <td>2021-01-30</td>\n",
       "      <td>4.0</td>\n",
       "      <td>575651.0</td>\n",
       "      <td>1.313</td>\n",
       "    </tr>\n",
       "    <tr>\n",
       "      <th>3</th>\n",
       "      <td>American Samoa</td>\n",
       "      <td>ASM</td>\n",
       "      <td>WPRO</td>\n",
       "      <td>REPORTING</td>\n",
       "      <td>2022-09-26</td>\n",
       "      <td>111316.0</td>\n",
       "      <td>44671</td>\n",
       "      <td>201.670</td>\n",
       "      <td>80.930</td>\n",
       "      <td>42547</td>\n",
       "      <td>77.082</td>\n",
       "      <td>Janssen - Ad26.COV 2-S,Moderna - Spikevax,Pfiz...</td>\n",
       "      <td>2020-12-21</td>\n",
       "      <td>3.0</td>\n",
       "      <td>24160.0</td>\n",
       "      <td>43.770</td>\n",
       "    </tr>\n",
       "    <tr>\n",
       "      <th>4</th>\n",
       "      <td>Andorra</td>\n",
       "      <td>AND</td>\n",
       "      <td>EURO</td>\n",
       "      <td>REPORTING</td>\n",
       "      <td>2023-01-29</td>\n",
       "      <td>156766.0</td>\n",
       "      <td>57903</td>\n",
       "      <td>202.900</td>\n",
       "      <td>76.011</td>\n",
       "      <td>53492</td>\n",
       "      <td>70.221</td>\n",
       "      <td>AstraZeneca - Vaxzevria,Moderna - Spikevax,Pfi...</td>\n",
       "      <td>2021-01-20</td>\n",
       "      <td>3.0</td>\n",
       "      <td>43049.0</td>\n",
       "      <td>56.512</td>\n",
       "    </tr>\n",
       "  </tbody>\n",
       "</table>\n",
       "</div>"
      ],
      "text/plain": [
       "          COUNTRY ISO3 WHO_REGION DATA_SOURCE DATE_UPDATED  \\\n",
       "0     Afghanistan  AFG       EMRO   REPORTING   2023-03-12   \n",
       "1         Albania  ALB       EURO   REPORTING   2023-02-05   \n",
       "2         Algeria  DZA       AFRO   REPORTING   2022-09-04   \n",
       "3  American Samoa  ASM       WPRO   REPORTING   2022-09-26   \n",
       "4         Andorra  AND       EURO   REPORTING   2023-01-29   \n",
       "\n",
       "   TOTAL_VACCINATIONS  PERSONS_VACCINATED_1PLUS_DOSE  \\\n",
       "0          16248588.0                       14258889   \n",
       "1           3058102.0                        1345763   \n",
       "2          15267442.0                        7840131   \n",
       "3            111316.0                          44671   \n",
       "4            156766.0                          57903   \n",
       "\n",
       "   TOTAL_VACCINATIONS_PER100  PERSONS_VACCINATED_1PLUS_DOSE_PER100  \\\n",
       "0                     41.740                                36.629   \n",
       "1                    106.300                                47.287   \n",
       "2                     34.817                                17.879   \n",
       "3                    201.670                                80.930   \n",
       "4                    202.900                                76.011   \n",
       "\n",
       "   PERSONS_FULLY_VACCINATED  PERSONS_FULLY_VACCINATED_PER100  \\\n",
       "0                  13542327                           34.788   \n",
       "1                   1274719                           44.791   \n",
       "2                   6481186                           14.780   \n",
       "3                     42547                           77.082   \n",
       "4                     53492                           70.221   \n",
       "\n",
       "                                       VACCINES_USED FIRST_VACCINE_DATE  \\\n",
       "0  AstraZeneca - Vaxzevria,Beijing CNBG - BBIBP-C...         2021-02-22   \n",
       "1  AstraZeneca - Vaxzevria,Gamaleya - Gam-Covid-V...         2021-01-13   \n",
       "2  Beijing CNBG - BBIBP-CorV,Gamaleya - Gam-Covid...         2021-01-30   \n",
       "3  Janssen - Ad26.COV 2-S,Moderna - Spikevax,Pfiz...         2020-12-21   \n",
       "4  AstraZeneca - Vaxzevria,Moderna - Spikevax,Pfi...         2021-01-20   \n",
       "\n",
       "   NUMBER_VACCINES_TYPES_USED  PERSONS_BOOSTER_ADD_DOSE  \\\n",
       "0                        11.0                  973787.0   \n",
       "1                         5.0                  390033.0   \n",
       "2                         4.0                  575651.0   \n",
       "3                         3.0                   24160.0   \n",
       "4                         3.0                   43049.0   \n",
       "\n",
       "   PERSONS_BOOSTER_ADD_DOSE_PER100  \n",
       "0                            2.501  \n",
       "1                           13.705  \n",
       "2                            1.313  \n",
       "3                           43.770  \n",
       "4                           56.512  "
      ]
     },
     "execution_count": 16,
     "metadata": {},
     "output_type": "execute_result"
    }
   ],
   "source": [
    "vd.head()"
   ]
  }
 ],
 "metadata": {
  "kernelspec": {
   "display_name": "base",
   "language": "python",
   "name": "python3"
  },
  "language_info": {
   "codemirror_mode": {
    "name": "ipython",
    "version": 3
   },
   "file_extension": ".py",
   "mimetype": "text/x-python",
   "name": "python",
   "nbconvert_exporter": "python",
   "pygments_lexer": "ipython3",
   "version": "3.9.12"
  },
  "orig_nbformat": 4,
  "vscode": {
   "interpreter": {
    "hash": "f66aeccd3e03a3b208672d8cf8ba4ce19b70c4b40b3b7391104fb17d658d6a7e"
   }
  }
 },
 "nbformat": 4,
 "nbformat_minor": 2
}
